{
 "cells": [
  {
   "cell_type": "code",
   "execution_count": 16,
   "metadata": {},
   "outputs": [],
   "source": [
    "import pandas as pd\n",
    "\n",
    "# Remover colunas desnecessarias\n",
    "# Identificar os usuarios (id) que cometeram fraude (dataset apenas com movimentações de usuarios fraudulentos) "
   ]
  },
  {
   "cell_type": "code",
   "execution_count": 17,
   "metadata": {},
   "outputs": [],
   "source": [
    "identity_dataset = pd.read_csv(r'../dataset/train_identity.csv')\n",
    "transaction_dataset = pd.read_csv(r'../dataset/train_transaction.csv')"
   ]
  },
  {
   "cell_type": "code",
   "execution_count": 18,
   "metadata": {},
   "outputs": [],
   "source": [
    "# UserID = combinação de card1, addr1, and D1\n",
    "transaction_dataset['UserID'] = transaction_dataset['card1'].astype(str) + transaction_dataset['addr1'].astype(str) + transaction_dataset['D1'].astype(str)\n",
    "transaction_dataset['UserID'] = transaction_dataset['UserID'].str.replace('nan', '0').str.replace('.', '')\n",
    "\n",
    "# Manter apenas as colunas necessárias\n",
    "transaction_dataset = transaction_dataset[['UserID','TransactionID', 'isFraud', 'TransactionDT', 'TransactionAmt', 'ProductCD', 'card4', 'card6', 'addr1', 'addr2', 'P_emaildomain']]"
   ]
  },
  {
   "cell_type": "code",
   "execution_count": 19,
   "metadata": {},
   "outputs": [],
   "source": [
    "identity_dataset = identity_dataset[['TransactionID', 'id_30', 'id_31', 'DeviceType', 'DeviceInfo']]\n",
    "identity_dataset.rename(columns={'id_30': 'SisOp', 'id_31': 'Browser'}, inplace=True)"
   ]
  },
  {
   "cell_type": "code",
   "execution_count": 20,
   "metadata": {},
   "outputs": [],
   "source": [
    "# Normalizar a coluna SisOp\n",
    "def normalize_sisop_column(serie):\n",
    "    os_mapping = {\n",
    "        'ios': 'iOS',\n",
    "        'android': 'Android',\n",
    "        'mac': 'Mac',\n",
    "        'windows': 'Windows',\n",
    "        'linux': 'Linux'\n",
    "    }\n",
    "\n",
    "    def normalize_os(value):\n",
    "        value = str(value).lower()\n",
    "        for key in os_mapping:\n",
    "            if key in value:\n",
    "                return os_mapping[key]\n",
    "        return 'Other'\n",
    "    \n",
    "    return serie.apply(normalize_os)\n",
    "\n",
    "identity_dataset['SisOp'] = normalize_sisop_column(identity_dataset['SisOp'])"
   ]
  },
  {
   "cell_type": "code",
   "execution_count": 21,
   "metadata": {},
   "outputs": [],
   "source": [
    "# Normalizar a coluna Browser\n",
    "def normalize_browser_column(serie):\n",
    "    browser_mapping = {\n",
    "        'chrome': 'Chrome',\n",
    "        'firefox': 'Firefox',\n",
    "        'safari': 'Safari',\n",
    "        'ie': 'Internet Explorer',\n",
    "        'edge': 'Edge',\n",
    "        'samsung': 'Samsung',\n",
    "        'opera': 'Opera'\n",
    "    }\n",
    "\n",
    "    def normalize_browser(value):\n",
    "        value = str(value).lower()\n",
    "        for key in browser_mapping:\n",
    "            if key in value:\n",
    "                return browser_mapping[key]\n",
    "        return 'Other'\n",
    "    \n",
    "    return serie.apply(normalize_browser)\n",
    "\n",
    "identity_dataset['Browser'] = normalize_browser_column(identity_dataset['Browser'])\n"
   ]
  },
  {
   "cell_type": "code",
   "execution_count": 22,
   "metadata": {},
   "outputs": [
    {
     "data": {
      "text/html": [
       "<div>\n",
       "<style scoped>\n",
       "    .dataframe tbody tr th:only-of-type {\n",
       "        vertical-align: middle;\n",
       "    }\n",
       "\n",
       "    .dataframe tbody tr th {\n",
       "        vertical-align: top;\n",
       "    }\n",
       "\n",
       "    .dataframe thead th {\n",
       "        text-align: right;\n",
       "    }\n",
       "</style>\n",
       "<table border=\"1\" class=\"dataframe\">\n",
       "  <thead>\n",
       "    <tr style=\"text-align: right;\">\n",
       "      <th></th>\n",
       "      <th>UserID</th>\n",
       "      <th>transaction_count</th>\n",
       "    </tr>\n",
       "  </thead>\n",
       "  <tbody>\n",
       "    <tr>\n",
       "      <th>88310</th>\n",
       "      <td>15885000</td>\n",
       "      <td>7198</td>\n",
       "    </tr>\n",
       "    <tr>\n",
       "      <th>242297</th>\n",
       "      <td>9633000</td>\n",
       "      <td>2964</td>\n",
       "    </tr>\n",
       "    <tr>\n",
       "      <th>150080</th>\n",
       "      <td>3154000</td>\n",
       "      <td>2897</td>\n",
       "    </tr>\n",
       "    <tr>\n",
       "      <th>109940</th>\n",
       "      <td>17188299000</td>\n",
       "      <td>2430</td>\n",
       "    </tr>\n",
       "    <tr>\n",
       "      <th>238672</th>\n",
       "      <td>9500204000</td>\n",
       "      <td>1919</td>\n",
       "    </tr>\n",
       "  </tbody>\n",
       "</table>\n",
       "</div>"
      ],
      "text/plain": [
       "             UserID  transaction_count\n",
       "88310      15885000               7198\n",
       "242297      9633000               2964\n",
       "150080      3154000               2897\n",
       "109940  17188299000               2430\n",
       "238672   9500204000               1919"
      ]
     },
     "execution_count": 22,
     "metadata": {},
     "output_type": "execute_result"
    }
   ],
   "source": [
    "# Contagem de transações por usuario\n",
    "user_transactions_count = transaction_dataset.groupby('UserID').size().reset_index(name='transaction_count')\n",
    "user_transactions_count.sort_values(by='transaction_count', ascending=False).head(5)"
   ]
  },
  {
   "cell_type": "code",
   "execution_count": 23,
   "metadata": {},
   "outputs": [
    {
     "data": {
      "text/html": [
       "<div>\n",
       "<style scoped>\n",
       "    .dataframe tbody tr th:only-of-type {\n",
       "        vertical-align: middle;\n",
       "    }\n",
       "\n",
       "    .dataframe tbody tr th {\n",
       "        vertical-align: top;\n",
       "    }\n",
       "\n",
       "    .dataframe thead th {\n",
       "        text-align: right;\n",
       "    }\n",
       "</style>\n",
       "<table border=\"1\" class=\"dataframe\">\n",
       "  <thead>\n",
       "    <tr style=\"text-align: right;\">\n",
       "      <th></th>\n",
       "      <th>Browser</th>\n",
       "      <th>transaction_count</th>\n",
       "    </tr>\n",
       "  </thead>\n",
       "  <tbody>\n",
       "    <tr>\n",
       "      <th>0</th>\n",
       "      <td>Chrome</td>\n",
       "      <td>76059</td>\n",
       "    </tr>\n",
       "    <tr>\n",
       "      <th>6</th>\n",
       "      <td>Safari</td>\n",
       "      <td>37281</td>\n",
       "    </tr>\n",
       "    <tr>\n",
       "      <th>3</th>\n",
       "      <td>Internet Explorer</td>\n",
       "      <td>10018</td>\n",
       "    </tr>\n",
       "    <tr>\n",
       "      <th>2</th>\n",
       "      <td>Firefox</td>\n",
       "      <td>7017</td>\n",
       "    </tr>\n",
       "    <tr>\n",
       "      <th>1</th>\n",
       "      <td>Edge</td>\n",
       "      <td>6401</td>\n",
       "    </tr>\n",
       "  </tbody>\n",
       "</table>\n",
       "</div>"
      ],
      "text/plain": [
       "             Browser  transaction_count\n",
       "0             Chrome              76059\n",
       "6             Safari              37281\n",
       "3  Internet Explorer              10018\n",
       "2            Firefox               7017\n",
       "1               Edge               6401"
      ]
     },
     "execution_count": 23,
     "metadata": {},
     "output_type": "execute_result"
    }
   ],
   "source": [
    "browser_transactions_count = identity_dataset.groupby('Browser').size().reset_index(name='transaction_count')\n",
    "browser_transactions_count.sort_values(by='transaction_count', ascending=False).head()"
   ]
  },
  {
   "cell_type": "code",
   "execution_count": 24,
   "metadata": {},
   "outputs": [],
   "source": [
    "# Merge dos datasets\n",
    "full_dataset = pd.merge(transaction_dataset, identity_dataset, on='TransactionID', how='inner')"
   ]
  },
  {
   "cell_type": "code",
   "execution_count": 25,
   "metadata": {},
   "outputs": [
    {
     "name": "stdout",
     "output_type": "stream",
     "text": [
      "Transaction Dataset: (590540, 11)\n",
      "Identity Dataset: (144233, 5)\n",
      "Full Dataset: (144233, 15)\n"
     ]
    }
   ],
   "source": [
    "# Tamanho dos datasets\n",
    "print('Transaction Dataset:', transaction_dataset.shape)\n",
    "print('Identity Dataset:', identity_dataset.shape)\n",
    "print('Full Dataset:', full_dataset.shape)"
   ]
  },
  {
   "cell_type": "code",
   "execution_count": 26,
   "metadata": {},
   "outputs": [
    {
     "name": "stdout",
     "output_type": "stream",
     "text": [
      "Quantas transações fraudulentas existem no dataset mergeado?\n",
      "isFraud\n",
      "0    132915\n",
      "1     11318\n",
      "Name: count, dtype: int64\n"
     ]
    }
   ],
   "source": [
    "print(f\"Quantas transações fraudulentas existem no dataset mergeado?\\n{full_dataset.isFraud.value_counts().sort_values(ascending=False)}\")"
   ]
  },
  {
   "cell_type": "markdown",
   "metadata": {},
   "source": []
  }
 ],
 "metadata": {
  "kernelspec": {
   "display_name": "env",
   "language": "python",
   "name": "python3"
  },
  "language_info": {
   "codemirror_mode": {
    "name": "ipython",
    "version": 3
   },
   "file_extension": ".py",
   "mimetype": "text/x-python",
   "name": "python",
   "nbconvert_exporter": "python",
   "pygments_lexer": "ipython3",
   "version": "3.12.2"
  }
 },
 "nbformat": 4,
 "nbformat_minor": 2
}
